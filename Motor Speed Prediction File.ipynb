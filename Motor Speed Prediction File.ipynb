{
  "nbformat": 4,
  "nbformat_minor": 0,
  "metadata": {
    "colab": {
      "provenance": []
    },
    "kernelspec": {
      "name": "python3",
      "display_name": "Python 3"
    },
    "language_info": {
      "name": "python"
    }
  },
  "cells": [
    {
      "cell_type": "code",
      "execution_count": null,
      "metadata": {
        "id": "PsrgOEnBYH1v"
      },
      "outputs": [],
      "source": [
        "import pandas as pd\n",
        "import numpy as np\n",
        "import matplotlib.pyplot as plt\n",
        "import seaborn as sns"
      ]
    },
    {
      "cell_type": "code",
      "source": [
        "df=pd.read_csv(r\"/content/temperature_data.csv\")"
      ],
      "metadata": {
        "id": "DGf5lRBBYsxr"
      },
      "execution_count": null,
      "outputs": []
    },
    {
      "cell_type": "code",
      "source": [
        "df.head()"
      ],
      "metadata": {
        "colab": {
          "base_uri": "https://localhost:8080/",
          "height": 270
        },
        "id": "SD7DuOCSYyvs",
        "outputId": "bcd03f46-c3f7-42a4-9296-954f7eac1782"
      },
      "execution_count": null,
      "outputs": [
        {
          "output_type": "execute_result",
          "data": {
            "text/plain": [
              "    ambient   coolant       u_d       u_q  motor_speed    torque       i_d  \\\n",
              "0 -0.752143 -1.118446  0.327935 -1.297858    -1.222428 -0.250182  1.029572   \n",
              "1 -0.771263 -1.117021  0.329665 -1.297686    -1.222429 -0.249133  1.029509   \n",
              "2 -0.782892 -1.116681  0.332771 -1.301822    -1.222428 -0.249431  1.029448   \n",
              "3 -0.780935 -1.116764  0.333700 -1.301852    -1.222430 -0.248636  1.032845   \n",
              "4 -0.774043 -1.116775  0.335206 -1.303118    -1.222429 -0.248701  1.031807   \n",
              "\n",
              "        i_q        pm  stator_yoke  stator_tooth  stator_winding  profile_id  \n",
              "0 -0.245860 -2.522071    -1.831422     -2.066143       -2.018033         4.0  \n",
              "1 -0.245832 -2.522418    -1.830969     -2.064859       -2.017631         4.0  \n",
              "2 -0.245818 -2.522673    -1.830400     -2.064073       -2.017343         4.0  \n",
              "3 -0.246955 -2.521639    -1.830333     -2.063137       -2.017632         4.0  \n",
              "4 -0.246610 -2.521900    -1.830498     -2.062795       -2.018145         4.0  "
            ],
            "text/html": [
              "\n",
              "  <div id=\"df-d0c2059a-0e55-41d6-9bf3-3623da6416a7\">\n",
              "    <div class=\"colab-df-container\">\n",
              "      <div>\n",
              "<style scoped>\n",
              "    .dataframe tbody tr th:only-of-type {\n",
              "        vertical-align: middle;\n",
              "    }\n",
              "\n",
              "    .dataframe tbody tr th {\n",
              "        vertical-align: top;\n",
              "    }\n",
              "\n",
              "    .dataframe thead th {\n",
              "        text-align: right;\n",
              "    }\n",
              "</style>\n",
              "<table border=\"1\" class=\"dataframe\">\n",
              "  <thead>\n",
              "    <tr style=\"text-align: right;\">\n",
              "      <th></th>\n",
              "      <th>ambient</th>\n",
              "      <th>coolant</th>\n",
              "      <th>u_d</th>\n",
              "      <th>u_q</th>\n",
              "      <th>motor_speed</th>\n",
              "      <th>torque</th>\n",
              "      <th>i_d</th>\n",
              "      <th>i_q</th>\n",
              "      <th>pm</th>\n",
              "      <th>stator_yoke</th>\n",
              "      <th>stator_tooth</th>\n",
              "      <th>stator_winding</th>\n",
              "      <th>profile_id</th>\n",
              "    </tr>\n",
              "  </thead>\n",
              "  <tbody>\n",
              "    <tr>\n",
              "      <th>0</th>\n",
              "      <td>-0.752143</td>\n",
              "      <td>-1.118446</td>\n",
              "      <td>0.327935</td>\n",
              "      <td>-1.297858</td>\n",
              "      <td>-1.222428</td>\n",
              "      <td>-0.250182</td>\n",
              "      <td>1.029572</td>\n",
              "      <td>-0.245860</td>\n",
              "      <td>-2.522071</td>\n",
              "      <td>-1.831422</td>\n",
              "      <td>-2.066143</td>\n",
              "      <td>-2.018033</td>\n",
              "      <td>4.0</td>\n",
              "    </tr>\n",
              "    <tr>\n",
              "      <th>1</th>\n",
              "      <td>-0.771263</td>\n",
              "      <td>-1.117021</td>\n",
              "      <td>0.329665</td>\n",
              "      <td>-1.297686</td>\n",
              "      <td>-1.222429</td>\n",
              "      <td>-0.249133</td>\n",
              "      <td>1.029509</td>\n",
              "      <td>-0.245832</td>\n",
              "      <td>-2.522418</td>\n",
              "      <td>-1.830969</td>\n",
              "      <td>-2.064859</td>\n",
              "      <td>-2.017631</td>\n",
              "      <td>4.0</td>\n",
              "    </tr>\n",
              "    <tr>\n",
              "      <th>2</th>\n",
              "      <td>-0.782892</td>\n",
              "      <td>-1.116681</td>\n",
              "      <td>0.332771</td>\n",
              "      <td>-1.301822</td>\n",
              "      <td>-1.222428</td>\n",
              "      <td>-0.249431</td>\n",
              "      <td>1.029448</td>\n",
              "      <td>-0.245818</td>\n",
              "      <td>-2.522673</td>\n",
              "      <td>-1.830400</td>\n",
              "      <td>-2.064073</td>\n",
              "      <td>-2.017343</td>\n",
              "      <td>4.0</td>\n",
              "    </tr>\n",
              "    <tr>\n",
              "      <th>3</th>\n",
              "      <td>-0.780935</td>\n",
              "      <td>-1.116764</td>\n",
              "      <td>0.333700</td>\n",
              "      <td>-1.301852</td>\n",
              "      <td>-1.222430</td>\n",
              "      <td>-0.248636</td>\n",
              "      <td>1.032845</td>\n",
              "      <td>-0.246955</td>\n",
              "      <td>-2.521639</td>\n",
              "      <td>-1.830333</td>\n",
              "      <td>-2.063137</td>\n",
              "      <td>-2.017632</td>\n",
              "      <td>4.0</td>\n",
              "    </tr>\n",
              "    <tr>\n",
              "      <th>4</th>\n",
              "      <td>-0.774043</td>\n",
              "      <td>-1.116775</td>\n",
              "      <td>0.335206</td>\n",
              "      <td>-1.303118</td>\n",
              "      <td>-1.222429</td>\n",
              "      <td>-0.248701</td>\n",
              "      <td>1.031807</td>\n",
              "      <td>-0.246610</td>\n",
              "      <td>-2.521900</td>\n",
              "      <td>-1.830498</td>\n",
              "      <td>-2.062795</td>\n",
              "      <td>-2.018145</td>\n",
              "      <td>4.0</td>\n",
              "    </tr>\n",
              "  </tbody>\n",
              "</table>\n",
              "</div>\n",
              "      <button class=\"colab-df-convert\" onclick=\"convertToInteractive('df-d0c2059a-0e55-41d6-9bf3-3623da6416a7')\"\n",
              "              title=\"Convert this dataframe to an interactive table.\"\n",
              "              style=\"display:none;\">\n",
              "        \n",
              "  <svg xmlns=\"http://www.w3.org/2000/svg\" height=\"24px\"viewBox=\"0 0 24 24\"\n",
              "       width=\"24px\">\n",
              "    <path d=\"M0 0h24v24H0V0z\" fill=\"none\"/>\n",
              "    <path d=\"M18.56 5.44l.94 2.06.94-2.06 2.06-.94-2.06-.94-.94-2.06-.94 2.06-2.06.94zm-11 1L8.5 8.5l.94-2.06 2.06-.94-2.06-.94L8.5 2.5l-.94 2.06-2.06.94zm10 10l.94 2.06.94-2.06 2.06-.94-2.06-.94-.94-2.06-.94 2.06-2.06.94z\"/><path d=\"M17.41 7.96l-1.37-1.37c-.4-.4-.92-.59-1.43-.59-.52 0-1.04.2-1.43.59L10.3 9.45l-7.72 7.72c-.78.78-.78 2.05 0 2.83L4 21.41c.39.39.9.59 1.41.59.51 0 1.02-.2 1.41-.59l7.78-7.78 2.81-2.81c.8-.78.8-2.07 0-2.86zM5.41 20L4 18.59l7.72-7.72 1.47 1.35L5.41 20z\"/>\n",
              "  </svg>\n",
              "      </button>\n",
              "      \n",
              "  <style>\n",
              "    .colab-df-container {\n",
              "      display:flex;\n",
              "      flex-wrap:wrap;\n",
              "      gap: 12px;\n",
              "    }\n",
              "\n",
              "    .colab-df-convert {\n",
              "      background-color: #E8F0FE;\n",
              "      border: none;\n",
              "      border-radius: 50%;\n",
              "      cursor: pointer;\n",
              "      display: none;\n",
              "      fill: #1967D2;\n",
              "      height: 32px;\n",
              "      padding: 0 0 0 0;\n",
              "      width: 32px;\n",
              "    }\n",
              "\n",
              "    .colab-df-convert:hover {\n",
              "      background-color: #E2EBFA;\n",
              "      box-shadow: 0px 1px 2px rgba(60, 64, 67, 0.3), 0px 1px 3px 1px rgba(60, 64, 67, 0.15);\n",
              "      fill: #174EA6;\n",
              "    }\n",
              "\n",
              "    [theme=dark] .colab-df-convert {\n",
              "      background-color: #3B4455;\n",
              "      fill: #D2E3FC;\n",
              "    }\n",
              "\n",
              "    [theme=dark] .colab-df-convert:hover {\n",
              "      background-color: #434B5C;\n",
              "      box-shadow: 0px 1px 3px 1px rgba(0, 0, 0, 0.15);\n",
              "      filter: drop-shadow(0px 1px 2px rgba(0, 0, 0, 0.3));\n",
              "      fill: #FFFFFF;\n",
              "    }\n",
              "  </style>\n",
              "\n",
              "      <script>\n",
              "        const buttonEl =\n",
              "          document.querySelector('#df-d0c2059a-0e55-41d6-9bf3-3623da6416a7 button.colab-df-convert');\n",
              "        buttonEl.style.display =\n",
              "          google.colab.kernel.accessAllowed ? 'block' : 'none';\n",
              "\n",
              "        async function convertToInteractive(key) {\n",
              "          const element = document.querySelector('#df-d0c2059a-0e55-41d6-9bf3-3623da6416a7');\n",
              "          const dataTable =\n",
              "            await google.colab.kernel.invokeFunction('convertToInteractive',\n",
              "                                                     [key], {});\n",
              "          if (!dataTable) return;\n",
              "\n",
              "          const docLinkHtml = 'Like what you see? Visit the ' +\n",
              "            '<a target=\"_blank\" href=https://colab.research.google.com/notebooks/data_table.ipynb>data table notebook</a>'\n",
              "            + ' to learn more about interactive tables.';\n",
              "          element.innerHTML = '';\n",
              "          dataTable['output_type'] = 'display_data';\n",
              "          await google.colab.output.renderOutput(dataTable, element);\n",
              "          const docLink = document.createElement('div');\n",
              "          docLink.innerHTML = docLinkHtml;\n",
              "          element.appendChild(docLink);\n",
              "        }\n",
              "      </script>\n",
              "    </div>\n",
              "  </div>\n",
              "  "
            ]
          },
          "metadata": {},
          "execution_count": 3
        }
      ]
    },
    {
      "cell_type": "code",
      "source": [
        "df.tail()"
      ],
      "metadata": {
        "colab": {
          "base_uri": "https://localhost:8080/",
          "height": 270
        },
        "id": "Y84u7wG5Y02G",
        "outputId": "0792ea2f-c15c-4ee4-803d-75dabf8ae18c"
      },
      "execution_count": null,
      "outputs": [
        {
          "output_type": "execute_result",
          "data": {
            "text/plain": [
              "        ambient   coolant       u_d       u_q  motor_speed    torque  \\\n",
              "63364  0.288521 -1.099877  2.008592  0.276172     0.130298 -1.855178   \n",
              "63365  0.285543 -1.098544  2.009319  0.274192     0.130298 -1.855201   \n",
              "63366  0.288925 -1.097338  2.009966  0.272661     0.130301 -1.855206   \n",
              "63367  0.295015 -1.095761  2.010060  0.271971     0.130296 -1.855097   \n",
              "63368  0.300000       NaN       NaN       NaN          NaN       NaN   \n",
              "\n",
              "            i_d       i_q        pm  stator_yoke  stator_tooth  \\\n",
              "63364 -0.359477 -1.827667 -0.211511    -0.734710     -0.380283   \n",
              "63365 -0.360793 -1.827436 -0.212054    -0.734714     -0.379753   \n",
              "63366 -0.362000 -1.827225 -0.211810    -0.734717     -0.379482   \n",
              "63367 -0.362549 -1.827139 -0.211707    -0.734720     -0.379570   \n",
              "63368       NaN       NaN       NaN          NaN           NaN   \n",
              "\n",
              "       stator_winding  profile_id  \n",
              "63364       -0.137807         6.0  \n",
              "63365       -0.137543         6.0  \n",
              "63366       -0.137810         6.0  \n",
              "63367       -0.140642         6.0  \n",
              "63368             NaN         NaN  "
            ],
            "text/html": [
              "\n",
              "  <div id=\"df-5e4147c1-d0e7-4657-a32d-b159c14efd1a\">\n",
              "    <div class=\"colab-df-container\">\n",
              "      <div>\n",
              "<style scoped>\n",
              "    .dataframe tbody tr th:only-of-type {\n",
              "        vertical-align: middle;\n",
              "    }\n",
              "\n",
              "    .dataframe tbody tr th {\n",
              "        vertical-align: top;\n",
              "    }\n",
              "\n",
              "    .dataframe thead th {\n",
              "        text-align: right;\n",
              "    }\n",
              "</style>\n",
              "<table border=\"1\" class=\"dataframe\">\n",
              "  <thead>\n",
              "    <tr style=\"text-align: right;\">\n",
              "      <th></th>\n",
              "      <th>ambient</th>\n",
              "      <th>coolant</th>\n",
              "      <th>u_d</th>\n",
              "      <th>u_q</th>\n",
              "      <th>motor_speed</th>\n",
              "      <th>torque</th>\n",
              "      <th>i_d</th>\n",
              "      <th>i_q</th>\n",
              "      <th>pm</th>\n",
              "      <th>stator_yoke</th>\n",
              "      <th>stator_tooth</th>\n",
              "      <th>stator_winding</th>\n",
              "      <th>profile_id</th>\n",
              "    </tr>\n",
              "  </thead>\n",
              "  <tbody>\n",
              "    <tr>\n",
              "      <th>63364</th>\n",
              "      <td>0.288521</td>\n",
              "      <td>-1.099877</td>\n",
              "      <td>2.008592</td>\n",
              "      <td>0.276172</td>\n",
              "      <td>0.130298</td>\n",
              "      <td>-1.855178</td>\n",
              "      <td>-0.359477</td>\n",
              "      <td>-1.827667</td>\n",
              "      <td>-0.211511</td>\n",
              "      <td>-0.734710</td>\n",
              "      <td>-0.380283</td>\n",
              "      <td>-0.137807</td>\n",
              "      <td>6.0</td>\n",
              "    </tr>\n",
              "    <tr>\n",
              "      <th>63365</th>\n",
              "      <td>0.285543</td>\n",
              "      <td>-1.098544</td>\n",
              "      <td>2.009319</td>\n",
              "      <td>0.274192</td>\n",
              "      <td>0.130298</td>\n",
              "      <td>-1.855201</td>\n",
              "      <td>-0.360793</td>\n",
              "      <td>-1.827436</td>\n",
              "      <td>-0.212054</td>\n",
              "      <td>-0.734714</td>\n",
              "      <td>-0.379753</td>\n",
              "      <td>-0.137543</td>\n",
              "      <td>6.0</td>\n",
              "    </tr>\n",
              "    <tr>\n",
              "      <th>63366</th>\n",
              "      <td>0.288925</td>\n",
              "      <td>-1.097338</td>\n",
              "      <td>2.009966</td>\n",
              "      <td>0.272661</td>\n",
              "      <td>0.130301</td>\n",
              "      <td>-1.855206</td>\n",
              "      <td>-0.362000</td>\n",
              "      <td>-1.827225</td>\n",
              "      <td>-0.211810</td>\n",
              "      <td>-0.734717</td>\n",
              "      <td>-0.379482</td>\n",
              "      <td>-0.137810</td>\n",
              "      <td>6.0</td>\n",
              "    </tr>\n",
              "    <tr>\n",
              "      <th>63367</th>\n",
              "      <td>0.295015</td>\n",
              "      <td>-1.095761</td>\n",
              "      <td>2.010060</td>\n",
              "      <td>0.271971</td>\n",
              "      <td>0.130296</td>\n",
              "      <td>-1.855097</td>\n",
              "      <td>-0.362549</td>\n",
              "      <td>-1.827139</td>\n",
              "      <td>-0.211707</td>\n",
              "      <td>-0.734720</td>\n",
              "      <td>-0.379570</td>\n",
              "      <td>-0.140642</td>\n",
              "      <td>6.0</td>\n",
              "    </tr>\n",
              "    <tr>\n",
              "      <th>63368</th>\n",
              "      <td>0.300000</td>\n",
              "      <td>NaN</td>\n",
              "      <td>NaN</td>\n",
              "      <td>NaN</td>\n",
              "      <td>NaN</td>\n",
              "      <td>NaN</td>\n",
              "      <td>NaN</td>\n",
              "      <td>NaN</td>\n",
              "      <td>NaN</td>\n",
              "      <td>NaN</td>\n",
              "      <td>NaN</td>\n",
              "      <td>NaN</td>\n",
              "      <td>NaN</td>\n",
              "    </tr>\n",
              "  </tbody>\n",
              "</table>\n",
              "</div>\n",
              "      <button class=\"colab-df-convert\" onclick=\"convertToInteractive('df-5e4147c1-d0e7-4657-a32d-b159c14efd1a')\"\n",
              "              title=\"Convert this dataframe to an interactive table.\"\n",
              "              style=\"display:none;\">\n",
              "        \n",
              "  <svg xmlns=\"http://www.w3.org/2000/svg\" height=\"24px\"viewBox=\"0 0 24 24\"\n",
              "       width=\"24px\">\n",
              "    <path d=\"M0 0h24v24H0V0z\" fill=\"none\"/>\n",
              "    <path d=\"M18.56 5.44l.94 2.06.94-2.06 2.06-.94-2.06-.94-.94-2.06-.94 2.06-2.06.94zm-11 1L8.5 8.5l.94-2.06 2.06-.94-2.06-.94L8.5 2.5l-.94 2.06-2.06.94zm10 10l.94 2.06.94-2.06 2.06-.94-2.06-.94-.94-2.06-.94 2.06-2.06.94z\"/><path d=\"M17.41 7.96l-1.37-1.37c-.4-.4-.92-.59-1.43-.59-.52 0-1.04.2-1.43.59L10.3 9.45l-7.72 7.72c-.78.78-.78 2.05 0 2.83L4 21.41c.39.39.9.59 1.41.59.51 0 1.02-.2 1.41-.59l7.78-7.78 2.81-2.81c.8-.78.8-2.07 0-2.86zM5.41 20L4 18.59l7.72-7.72 1.47 1.35L5.41 20z\"/>\n",
              "  </svg>\n",
              "      </button>\n",
              "      \n",
              "  <style>\n",
              "    .colab-df-container {\n",
              "      display:flex;\n",
              "      flex-wrap:wrap;\n",
              "      gap: 12px;\n",
              "    }\n",
              "\n",
              "    .colab-df-convert {\n",
              "      background-color: #E8F0FE;\n",
              "      border: none;\n",
              "      border-radius: 50%;\n",
              "      cursor: pointer;\n",
              "      display: none;\n",
              "      fill: #1967D2;\n",
              "      height: 32px;\n",
              "      padding: 0 0 0 0;\n",
              "      width: 32px;\n",
              "    }\n",
              "\n",
              "    .colab-df-convert:hover {\n",
              "      background-color: #E2EBFA;\n",
              "      box-shadow: 0px 1px 2px rgba(60, 64, 67, 0.3), 0px 1px 3px 1px rgba(60, 64, 67, 0.15);\n",
              "      fill: #174EA6;\n",
              "    }\n",
              "\n",
              "    [theme=dark] .colab-df-convert {\n",
              "      background-color: #3B4455;\n",
              "      fill: #D2E3FC;\n",
              "    }\n",
              "\n",
              "    [theme=dark] .colab-df-convert:hover {\n",
              "      background-color: #434B5C;\n",
              "      box-shadow: 0px 1px 3px 1px rgba(0, 0, 0, 0.15);\n",
              "      filter: drop-shadow(0px 1px 2px rgba(0, 0, 0, 0.3));\n",
              "      fill: #FFFFFF;\n",
              "    }\n",
              "  </style>\n",
              "\n",
              "      <script>\n",
              "        const buttonEl =\n",
              "          document.querySelector('#df-5e4147c1-d0e7-4657-a32d-b159c14efd1a button.colab-df-convert');\n",
              "        buttonEl.style.display =\n",
              "          google.colab.kernel.accessAllowed ? 'block' : 'none';\n",
              "\n",
              "        async function convertToInteractive(key) {\n",
              "          const element = document.querySelector('#df-5e4147c1-d0e7-4657-a32d-b159c14efd1a');\n",
              "          const dataTable =\n",
              "            await google.colab.kernel.invokeFunction('convertToInteractive',\n",
              "                                                     [key], {});\n",
              "          if (!dataTable) return;\n",
              "\n",
              "          const docLinkHtml = 'Like what you see? Visit the ' +\n",
              "            '<a target=\"_blank\" href=https://colab.research.google.com/notebooks/data_table.ipynb>data table notebook</a>'\n",
              "            + ' to learn more about interactive tables.';\n",
              "          element.innerHTML = '';\n",
              "          dataTable['output_type'] = 'display_data';\n",
              "          await google.colab.output.renderOutput(dataTable, element);\n",
              "          const docLink = document.createElement('div');\n",
              "          docLink.innerHTML = docLinkHtml;\n",
              "          element.appendChild(docLink);\n",
              "        }\n",
              "      </script>\n",
              "    </div>\n",
              "  </div>\n",
              "  "
            ]
          },
          "metadata": {},
          "execution_count": 4
        }
      ]
    },
    {
      "cell_type": "code",
      "source": [
        "df.shape"
      ],
      "metadata": {
        "colab": {
          "base_uri": "https://localhost:8080/"
        },
        "id": "xp-8Yd5oZMCB",
        "outputId": "c20aeb4d-0658-4d91-cf22-f5b07883df4f"
      },
      "execution_count": null,
      "outputs": [
        {
          "output_type": "execute_result",
          "data": {
            "text/plain": [
              "(63369, 13)"
            ]
          },
          "metadata": {},
          "execution_count": 5
        }
      ]
    },
    {
      "cell_type": "code",
      "source": [
        "df.isnull().sum()"
      ],
      "metadata": {
        "colab": {
          "base_uri": "https://localhost:8080/"
        },
        "id": "hPGLDB1PZOwG",
        "outputId": "73e431a5-efc6-48d1-97c5-dfd4ea31ff67"
      },
      "execution_count": null,
      "outputs": [
        {
          "output_type": "execute_result",
          "data": {
            "text/plain": [
              "ambient           0\n",
              "coolant           1\n",
              "u_d               1\n",
              "u_q               1\n",
              "motor_speed       1\n",
              "torque            1\n",
              "i_d               1\n",
              "i_q               1\n",
              "pm                1\n",
              "stator_yoke       1\n",
              "stator_tooth      1\n",
              "stator_winding    1\n",
              "profile_id        1\n",
              "dtype: int64"
            ]
          },
          "metadata": {},
          "execution_count": 6
        }
      ]
    },
    {
      "cell_type": "code",
      "source": [
        "df.fillna(df.mean(), inplace=True)"
      ],
      "metadata": {
        "id": "l1j8jyg8ZT0y"
      },
      "execution_count": null,
      "outputs": []
    },
    {
      "cell_type": "code",
      "source": [
        "df.isnull().sum()"
      ],
      "metadata": {
        "colab": {
          "base_uri": "https://localhost:8080/"
        },
        "id": "kbup3cQmZzIv",
        "outputId": "adb766b5-b7ff-42f8-b401-89f1bd2a0c31"
      },
      "execution_count": null,
      "outputs": [
        {
          "output_type": "execute_result",
          "data": {
            "text/plain": [
              "ambient           0\n",
              "coolant           0\n",
              "u_d               0\n",
              "u_q               0\n",
              "motor_speed       0\n",
              "torque            0\n",
              "i_d               0\n",
              "i_q               0\n",
              "pm                0\n",
              "stator_yoke       0\n",
              "stator_tooth      0\n",
              "stator_winding    0\n",
              "profile_id        0\n",
              "dtype: int64"
            ]
          },
          "metadata": {},
          "execution_count": 8
        }
      ]
    },
    {
      "cell_type": "code",
      "source": [
        "df.isnull().values.any()"
      ],
      "metadata": {
        "colab": {
          "base_uri": "https://localhost:8080/"
        },
        "id": "JMgE1Pl4Z1-b",
        "outputId": "8540d6ca-f665-4876-8c21-ae1c628b9132"
      },
      "execution_count": null,
      "outputs": [
        {
          "output_type": "execute_result",
          "data": {
            "text/plain": [
              "False"
            ]
          },
          "metadata": {},
          "execution_count": 9
        }
      ]
    },
    {
      "cell_type": "code",
      "source": [
        "df.info()"
      ],
      "metadata": {
        "colab": {
          "base_uri": "https://localhost:8080/"
        },
        "id": "RfrtB9D9aExz",
        "outputId": "050df6d1-186d-4b79-87bf-f3700bc67f5a"
      },
      "execution_count": null,
      "outputs": [
        {
          "output_type": "stream",
          "name": "stdout",
          "text": [
            "<class 'pandas.core.frame.DataFrame'>\n",
            "RangeIndex: 63369 entries, 0 to 63368\n",
            "Data columns (total 13 columns):\n",
            " #   Column          Non-Null Count  Dtype  \n",
            "---  ------          --------------  -----  \n",
            " 0   ambient         63369 non-null  float64\n",
            " 1   coolant         63369 non-null  float64\n",
            " 2   u_d             63369 non-null  float64\n",
            " 3   u_q             63369 non-null  float64\n",
            " 4   motor_speed     63369 non-null  float64\n",
            " 5   torque          63369 non-null  float64\n",
            " 6   i_d             63369 non-null  float64\n",
            " 7   i_q             63369 non-null  float64\n",
            " 8   pm              63369 non-null  float64\n",
            " 9   stator_yoke     63369 non-null  float64\n",
            " 10  stator_tooth    63369 non-null  float64\n",
            " 11  stator_winding  63369 non-null  float64\n",
            " 12  profile_id      63369 non-null  float64\n",
            "dtypes: float64(13)\n",
            "memory usage: 6.3 MB\n"
          ]
        }
      ]
    },
    {
      "cell_type": "code",
      "source": [
        "df.duplicated().any()"
      ],
      "metadata": {
        "colab": {
          "base_uri": "https://localhost:8080/"
        },
        "id": "IGiSh7yQaIKt",
        "outputId": "b67d3209-c906-40e3-e2e5-02e740c64d95"
      },
      "execution_count": null,
      "outputs": [
        {
          "output_type": "execute_result",
          "data": {
            "text/plain": [
              "False"
            ]
          },
          "metadata": {},
          "execution_count": 11
        }
      ]
    },
    {
      "cell_type": "code",
      "source": [
        "df.describe()"
      ],
      "metadata": {
        "colab": {
          "base_uri": "https://localhost:8080/",
          "height": 364
        },
        "id": "rANI0MatahKH",
        "outputId": "44472ae5-5ccb-46ad-dd88-2389aa323903"
      },
      "execution_count": null,
      "outputs": [
        {
          "output_type": "execute_result",
          "data": {
            "text/plain": [
              "            ambient       coolant           u_d           u_q   motor_speed  \\\n",
              "count  63369.000000  63369.000000  63369.000000  63369.000000  63369.000000   \n",
              "mean      -0.037309     -0.773640     -0.391961      0.454805      0.571369   \n",
              "std        0.651423      0.664475      0.927959      0.722123      1.062615   \n",
              "min       -3.698899     -1.288667     -1.574856     -1.311199     -1.222586   \n",
              "25%       -0.622845     -1.082732     -1.146095      0.286415     -0.140248   \n",
              "50%       -0.014522     -1.067858     -0.963345      0.717409      0.130302   \n",
              "75%        0.375682     -1.040315      0.300583      0.885343      1.483028   \n",
              "max        2.712510      1.110164      2.010060      1.762809      2.024164   \n",
              "\n",
              "             torque           i_d           i_q            pm   stator_yoke  \\\n",
              "count  63369.000000  63369.000000  63369.000000  63369.000000  63369.000000   \n",
              "mean       0.074896     -0.192989      0.066446     -0.190383     -0.709633   \n",
              "std        0.685300      0.959245      0.682463      1.189993      0.891441   \n",
              "min       -1.870901     -1.844941     -1.828873     -2.524219     -1.834688   \n",
              "25%       -0.259080     -1.030371     -0.245719     -1.177343     -1.509715   \n",
              "50%        0.339746     -0.761582      0.302637     -0.243817     -0.801426   \n",
              "75%        0.351889      1.029132      0.310865      0.817969     -0.397775   \n",
              "max        1.967097      1.032845      1.894011      2.291651      1.331096   \n",
              "\n",
              "       stator_tooth  stator_winding    profile_id  \n",
              "count  63369.000000    63369.000000  63369.000000  \n",
              "mean      -0.555980       -0.454756      4.945114  \n",
              "std        1.046035        1.083288      0.998493  \n",
              "min       -2.066143       -2.019973      4.000000  \n",
              "25%       -1.657163       -1.720738      4.000000  \n",
              "50%       -0.467512       -0.333662      4.000000  \n",
              "75%        0.091995        0.336698      6.000000  \n",
              "max        1.441976        1.588526      6.000000  "
            ],
            "text/html": [
              "\n",
              "  <div id=\"df-877e1275-e7dd-45ad-a692-c8aec858cc62\">\n",
              "    <div class=\"colab-df-container\">\n",
              "      <div>\n",
              "<style scoped>\n",
              "    .dataframe tbody tr th:only-of-type {\n",
              "        vertical-align: middle;\n",
              "    }\n",
              "\n",
              "    .dataframe tbody tr th {\n",
              "        vertical-align: top;\n",
              "    }\n",
              "\n",
              "    .dataframe thead th {\n",
              "        text-align: right;\n",
              "    }\n",
              "</style>\n",
              "<table border=\"1\" class=\"dataframe\">\n",
              "  <thead>\n",
              "    <tr style=\"text-align: right;\">\n",
              "      <th></th>\n",
              "      <th>ambient</th>\n",
              "      <th>coolant</th>\n",
              "      <th>u_d</th>\n",
              "      <th>u_q</th>\n",
              "      <th>motor_speed</th>\n",
              "      <th>torque</th>\n",
              "      <th>i_d</th>\n",
              "      <th>i_q</th>\n",
              "      <th>pm</th>\n",
              "      <th>stator_yoke</th>\n",
              "      <th>stator_tooth</th>\n",
              "      <th>stator_winding</th>\n",
              "      <th>profile_id</th>\n",
              "    </tr>\n",
              "  </thead>\n",
              "  <tbody>\n",
              "    <tr>\n",
              "      <th>count</th>\n",
              "      <td>63369.000000</td>\n",
              "      <td>63369.000000</td>\n",
              "      <td>63369.000000</td>\n",
              "      <td>63369.000000</td>\n",
              "      <td>63369.000000</td>\n",
              "      <td>63369.000000</td>\n",
              "      <td>63369.000000</td>\n",
              "      <td>63369.000000</td>\n",
              "      <td>63369.000000</td>\n",
              "      <td>63369.000000</td>\n",
              "      <td>63369.000000</td>\n",
              "      <td>63369.000000</td>\n",
              "      <td>63369.000000</td>\n",
              "    </tr>\n",
              "    <tr>\n",
              "      <th>mean</th>\n",
              "      <td>-0.037309</td>\n",
              "      <td>-0.773640</td>\n",
              "      <td>-0.391961</td>\n",
              "      <td>0.454805</td>\n",
              "      <td>0.571369</td>\n",
              "      <td>0.074896</td>\n",
              "      <td>-0.192989</td>\n",
              "      <td>0.066446</td>\n",
              "      <td>-0.190383</td>\n",
              "      <td>-0.709633</td>\n",
              "      <td>-0.555980</td>\n",
              "      <td>-0.454756</td>\n",
              "      <td>4.945114</td>\n",
              "    </tr>\n",
              "    <tr>\n",
              "      <th>std</th>\n",
              "      <td>0.651423</td>\n",
              "      <td>0.664475</td>\n",
              "      <td>0.927959</td>\n",
              "      <td>0.722123</td>\n",
              "      <td>1.062615</td>\n",
              "      <td>0.685300</td>\n",
              "      <td>0.959245</td>\n",
              "      <td>0.682463</td>\n",
              "      <td>1.189993</td>\n",
              "      <td>0.891441</td>\n",
              "      <td>1.046035</td>\n",
              "      <td>1.083288</td>\n",
              "      <td>0.998493</td>\n",
              "    </tr>\n",
              "    <tr>\n",
              "      <th>min</th>\n",
              "      <td>-3.698899</td>\n",
              "      <td>-1.288667</td>\n",
              "      <td>-1.574856</td>\n",
              "      <td>-1.311199</td>\n",
              "      <td>-1.222586</td>\n",
              "      <td>-1.870901</td>\n",
              "      <td>-1.844941</td>\n",
              "      <td>-1.828873</td>\n",
              "      <td>-2.524219</td>\n",
              "      <td>-1.834688</td>\n",
              "      <td>-2.066143</td>\n",
              "      <td>-2.019973</td>\n",
              "      <td>4.000000</td>\n",
              "    </tr>\n",
              "    <tr>\n",
              "      <th>25%</th>\n",
              "      <td>-0.622845</td>\n",
              "      <td>-1.082732</td>\n",
              "      <td>-1.146095</td>\n",
              "      <td>0.286415</td>\n",
              "      <td>-0.140248</td>\n",
              "      <td>-0.259080</td>\n",
              "      <td>-1.030371</td>\n",
              "      <td>-0.245719</td>\n",
              "      <td>-1.177343</td>\n",
              "      <td>-1.509715</td>\n",
              "      <td>-1.657163</td>\n",
              "      <td>-1.720738</td>\n",
              "      <td>4.000000</td>\n",
              "    </tr>\n",
              "    <tr>\n",
              "      <th>50%</th>\n",
              "      <td>-0.014522</td>\n",
              "      <td>-1.067858</td>\n",
              "      <td>-0.963345</td>\n",
              "      <td>0.717409</td>\n",
              "      <td>0.130302</td>\n",
              "      <td>0.339746</td>\n",
              "      <td>-0.761582</td>\n",
              "      <td>0.302637</td>\n",
              "      <td>-0.243817</td>\n",
              "      <td>-0.801426</td>\n",
              "      <td>-0.467512</td>\n",
              "      <td>-0.333662</td>\n",
              "      <td>4.000000</td>\n",
              "    </tr>\n",
              "    <tr>\n",
              "      <th>75%</th>\n",
              "      <td>0.375682</td>\n",
              "      <td>-1.040315</td>\n",
              "      <td>0.300583</td>\n",
              "      <td>0.885343</td>\n",
              "      <td>1.483028</td>\n",
              "      <td>0.351889</td>\n",
              "      <td>1.029132</td>\n",
              "      <td>0.310865</td>\n",
              "      <td>0.817969</td>\n",
              "      <td>-0.397775</td>\n",
              "      <td>0.091995</td>\n",
              "      <td>0.336698</td>\n",
              "      <td>6.000000</td>\n",
              "    </tr>\n",
              "    <tr>\n",
              "      <th>max</th>\n",
              "      <td>2.712510</td>\n",
              "      <td>1.110164</td>\n",
              "      <td>2.010060</td>\n",
              "      <td>1.762809</td>\n",
              "      <td>2.024164</td>\n",
              "      <td>1.967097</td>\n",
              "      <td>1.032845</td>\n",
              "      <td>1.894011</td>\n",
              "      <td>2.291651</td>\n",
              "      <td>1.331096</td>\n",
              "      <td>1.441976</td>\n",
              "      <td>1.588526</td>\n",
              "      <td>6.000000</td>\n",
              "    </tr>\n",
              "  </tbody>\n",
              "</table>\n",
              "</div>\n",
              "      <button class=\"colab-df-convert\" onclick=\"convertToInteractive('df-877e1275-e7dd-45ad-a692-c8aec858cc62')\"\n",
              "              title=\"Convert this dataframe to an interactive table.\"\n",
              "              style=\"display:none;\">\n",
              "        \n",
              "  <svg xmlns=\"http://www.w3.org/2000/svg\" height=\"24px\"viewBox=\"0 0 24 24\"\n",
              "       width=\"24px\">\n",
              "    <path d=\"M0 0h24v24H0V0z\" fill=\"none\"/>\n",
              "    <path d=\"M18.56 5.44l.94 2.06.94-2.06 2.06-.94-2.06-.94-.94-2.06-.94 2.06-2.06.94zm-11 1L8.5 8.5l.94-2.06 2.06-.94-2.06-.94L8.5 2.5l-.94 2.06-2.06.94zm10 10l.94 2.06.94-2.06 2.06-.94-2.06-.94-.94-2.06-.94 2.06-2.06.94z\"/><path d=\"M17.41 7.96l-1.37-1.37c-.4-.4-.92-.59-1.43-.59-.52 0-1.04.2-1.43.59L10.3 9.45l-7.72 7.72c-.78.78-.78 2.05 0 2.83L4 21.41c.39.39.9.59 1.41.59.51 0 1.02-.2 1.41-.59l7.78-7.78 2.81-2.81c.8-.78.8-2.07 0-2.86zM5.41 20L4 18.59l7.72-7.72 1.47 1.35L5.41 20z\"/>\n",
              "  </svg>\n",
              "      </button>\n",
              "      \n",
              "  <style>\n",
              "    .colab-df-container {\n",
              "      display:flex;\n",
              "      flex-wrap:wrap;\n",
              "      gap: 12px;\n",
              "    }\n",
              "\n",
              "    .colab-df-convert {\n",
              "      background-color: #E8F0FE;\n",
              "      border: none;\n",
              "      border-radius: 50%;\n",
              "      cursor: pointer;\n",
              "      display: none;\n",
              "      fill: #1967D2;\n",
              "      height: 32px;\n",
              "      padding: 0 0 0 0;\n",
              "      width: 32px;\n",
              "    }\n",
              "\n",
              "    .colab-df-convert:hover {\n",
              "      background-color: #E2EBFA;\n",
              "      box-shadow: 0px 1px 2px rgba(60, 64, 67, 0.3), 0px 1px 3px 1px rgba(60, 64, 67, 0.15);\n",
              "      fill: #174EA6;\n",
              "    }\n",
              "\n",
              "    [theme=dark] .colab-df-convert {\n",
              "      background-color: #3B4455;\n",
              "      fill: #D2E3FC;\n",
              "    }\n",
              "\n",
              "    [theme=dark] .colab-df-convert:hover {\n",
              "      background-color: #434B5C;\n",
              "      box-shadow: 0px 1px 3px 1px rgba(0, 0, 0, 0.15);\n",
              "      filter: drop-shadow(0px 1px 2px rgba(0, 0, 0, 0.3));\n",
              "      fill: #FFFFFF;\n",
              "    }\n",
              "  </style>\n",
              "\n",
              "      <script>\n",
              "        const buttonEl =\n",
              "          document.querySelector('#df-877e1275-e7dd-45ad-a692-c8aec858cc62 button.colab-df-convert');\n",
              "        buttonEl.style.display =\n",
              "          google.colab.kernel.accessAllowed ? 'block' : 'none';\n",
              "\n",
              "        async function convertToInteractive(key) {\n",
              "          const element = document.querySelector('#df-877e1275-e7dd-45ad-a692-c8aec858cc62');\n",
              "          const dataTable =\n",
              "            await google.colab.kernel.invokeFunction('convertToInteractive',\n",
              "                                                     [key], {});\n",
              "          if (!dataTable) return;\n",
              "\n",
              "          const docLinkHtml = 'Like what you see? Visit the ' +\n",
              "            '<a target=\"_blank\" href=https://colab.research.google.com/notebooks/data_table.ipynb>data table notebook</a>'\n",
              "            + ' to learn more about interactive tables.';\n",
              "          element.innerHTML = '';\n",
              "          dataTable['output_type'] = 'display_data';\n",
              "          await google.colab.output.renderOutput(dataTable, element);\n",
              "          const docLink = document.createElement('div');\n",
              "          docLink.innerHTML = docLinkHtml;\n",
              "          element.appendChild(docLink);\n",
              "        }\n",
              "      </script>\n",
              "    </div>\n",
              "  </div>\n",
              "  "
            ]
          },
          "metadata": {},
          "execution_count": 12
        }
      ]
    },
    {
      "cell_type": "code",
      "source": [
        "# drop column \"profile_id\"\n",
        "df.drop(\"profile_id\", axis=1, inplace=True)"
      ],
      "metadata": {
        "id": "1aN03_HEaqNx"
      },
      "execution_count": null,
      "outputs": []
    },
    {
      "cell_type": "code",
      "source": [
        "df.corr()"
      ],
      "metadata": {
        "colab": {
          "base_uri": "https://localhost:8080/",
          "height": 489
        },
        "id": "GX3x0stCbGTa",
        "outputId": "300a869a-25f0-4cf9-fa79-bb8227f98614"
      },
      "execution_count": null,
      "outputs": [
        {
          "output_type": "execute_result",
          "data": {
            "text/plain": [
              "                 ambient   coolant       u_d       u_q  motor_speed    torque  \\\n",
              "ambient         1.000000  0.329823 -0.031088 -0.428936    -0.099517 -0.035700   \n",
              "coolant         0.329823  1.000000 -0.371048  0.168029     0.388054  0.177956   \n",
              "u_d            -0.031088 -0.371048  1.000000 -0.250205    -0.583897 -0.887361   \n",
              "u_q            -0.428936  0.168029 -0.250205  1.000000     0.668216  0.122969   \n",
              "motor_speed    -0.099517  0.388054 -0.583897  0.668216     1.000000  0.242579   \n",
              "torque         -0.035700  0.177956 -0.887361  0.122969     0.242579  1.000000   \n",
              "i_d            -0.096889 -0.385505  0.608712 -0.410514    -0.910886 -0.297683   \n",
              "i_q            -0.049829  0.163456 -0.866680  0.134764     0.214462  0.997521   \n",
              "pm              0.405276  0.624819 -0.522503  0.152399     0.654236  0.212017   \n",
              "stator_yoke     0.327681  0.852100 -0.555228  0.315306     0.683926  0.285611   \n",
              "stator_tooth    0.279815  0.718992 -0.592306  0.352986     0.773221  0.303321   \n",
              "stator_winding  0.254866  0.632019 -0.604680  0.336869     0.790710  0.323578   \n",
              "\n",
              "                     i_d       i_q        pm  stator_yoke  stator_tooth  \\\n",
              "ambient        -0.096889 -0.049829  0.405276     0.327681      0.279815   \n",
              "coolant        -0.385505  0.163456  0.624819     0.852100      0.718992   \n",
              "u_d             0.608712 -0.866680 -0.522503    -0.555228     -0.592306   \n",
              "u_q            -0.410514  0.134764  0.152399     0.315306      0.352986   \n",
              "motor_speed    -0.910886  0.214462  0.654236     0.683926      0.773221   \n",
              "torque         -0.297683  0.997521  0.212017     0.285611      0.303321   \n",
              "i_d             1.000000 -0.263372 -0.707729    -0.731094     -0.837151   \n",
              "i_q            -0.263372  1.000000  0.174230     0.261040      0.275173   \n",
              "pm             -0.707729  0.174230  1.000000     0.876974      0.905536   \n",
              "stator_yoke    -0.731094  0.261040  0.876974     1.000000      0.974270   \n",
              "stator_tooth   -0.837151  0.275173  0.905536     0.974270      1.000000   \n",
              "stator_winding -0.882904  0.294131  0.886792     0.937335      0.990086   \n",
              "\n",
              "                stator_winding  \n",
              "ambient               0.254866  \n",
              "coolant               0.632019  \n",
              "u_d                  -0.604680  \n",
              "u_q                   0.336869  \n",
              "motor_speed           0.790710  \n",
              "torque                0.323578  \n",
              "i_d                  -0.882904  \n",
              "i_q                   0.294131  \n",
              "pm                    0.886792  \n",
              "stator_yoke           0.937335  \n",
              "stator_tooth          0.990086  \n",
              "stator_winding        1.000000  "
            ],
            "text/html": [
              "\n",
              "  <div id=\"df-3cee0137-ce96-4516-a5af-da7d7d499259\">\n",
              "    <div class=\"colab-df-container\">\n",
              "      <div>\n",
              "<style scoped>\n",
              "    .dataframe tbody tr th:only-of-type {\n",
              "        vertical-align: middle;\n",
              "    }\n",
              "\n",
              "    .dataframe tbody tr th {\n",
              "        vertical-align: top;\n",
              "    }\n",
              "\n",
              "    .dataframe thead th {\n",
              "        text-align: right;\n",
              "    }\n",
              "</style>\n",
              "<table border=\"1\" class=\"dataframe\">\n",
              "  <thead>\n",
              "    <tr style=\"text-align: right;\">\n",
              "      <th></th>\n",
              "      <th>ambient</th>\n",
              "      <th>coolant</th>\n",
              "      <th>u_d</th>\n",
              "      <th>u_q</th>\n",
              "      <th>motor_speed</th>\n",
              "      <th>torque</th>\n",
              "      <th>i_d</th>\n",
              "      <th>i_q</th>\n",
              "      <th>pm</th>\n",
              "      <th>stator_yoke</th>\n",
              "      <th>stator_tooth</th>\n",
              "      <th>stator_winding</th>\n",
              "    </tr>\n",
              "  </thead>\n",
              "  <tbody>\n",
              "    <tr>\n",
              "      <th>ambient</th>\n",
              "      <td>1.000000</td>\n",
              "      <td>0.329823</td>\n",
              "      <td>-0.031088</td>\n",
              "      <td>-0.428936</td>\n",
              "      <td>-0.099517</td>\n",
              "      <td>-0.035700</td>\n",
              "      <td>-0.096889</td>\n",
              "      <td>-0.049829</td>\n",
              "      <td>0.405276</td>\n",
              "      <td>0.327681</td>\n",
              "      <td>0.279815</td>\n",
              "      <td>0.254866</td>\n",
              "    </tr>\n",
              "    <tr>\n",
              "      <th>coolant</th>\n",
              "      <td>0.329823</td>\n",
              "      <td>1.000000</td>\n",
              "      <td>-0.371048</td>\n",
              "      <td>0.168029</td>\n",
              "      <td>0.388054</td>\n",
              "      <td>0.177956</td>\n",
              "      <td>-0.385505</td>\n",
              "      <td>0.163456</td>\n",
              "      <td>0.624819</td>\n",
              "      <td>0.852100</td>\n",
              "      <td>0.718992</td>\n",
              "      <td>0.632019</td>\n",
              "    </tr>\n",
              "    <tr>\n",
              "      <th>u_d</th>\n",
              "      <td>-0.031088</td>\n",
              "      <td>-0.371048</td>\n",
              "      <td>1.000000</td>\n",
              "      <td>-0.250205</td>\n",
              "      <td>-0.583897</td>\n",
              "      <td>-0.887361</td>\n",
              "      <td>0.608712</td>\n",
              "      <td>-0.866680</td>\n",
              "      <td>-0.522503</td>\n",
              "      <td>-0.555228</td>\n",
              "      <td>-0.592306</td>\n",
              "      <td>-0.604680</td>\n",
              "    </tr>\n",
              "    <tr>\n",
              "      <th>u_q</th>\n",
              "      <td>-0.428936</td>\n",
              "      <td>0.168029</td>\n",
              "      <td>-0.250205</td>\n",
              "      <td>1.000000</td>\n",
              "      <td>0.668216</td>\n",
              "      <td>0.122969</td>\n",
              "      <td>-0.410514</td>\n",
              "      <td>0.134764</td>\n",
              "      <td>0.152399</td>\n",
              "      <td>0.315306</td>\n",
              "      <td>0.352986</td>\n",
              "      <td>0.336869</td>\n",
              "    </tr>\n",
              "    <tr>\n",
              "      <th>motor_speed</th>\n",
              "      <td>-0.099517</td>\n",
              "      <td>0.388054</td>\n",
              "      <td>-0.583897</td>\n",
              "      <td>0.668216</td>\n",
              "      <td>1.000000</td>\n",
              "      <td>0.242579</td>\n",
              "      <td>-0.910886</td>\n",
              "      <td>0.214462</td>\n",
              "      <td>0.654236</td>\n",
              "      <td>0.683926</td>\n",
              "      <td>0.773221</td>\n",
              "      <td>0.790710</td>\n",
              "    </tr>\n",
              "    <tr>\n",
              "      <th>torque</th>\n",
              "      <td>-0.035700</td>\n",
              "      <td>0.177956</td>\n",
              "      <td>-0.887361</td>\n",
              "      <td>0.122969</td>\n",
              "      <td>0.242579</td>\n",
              "      <td>1.000000</td>\n",
              "      <td>-0.297683</td>\n",
              "      <td>0.997521</td>\n",
              "      <td>0.212017</td>\n",
              "      <td>0.285611</td>\n",
              "      <td>0.303321</td>\n",
              "      <td>0.323578</td>\n",
              "    </tr>\n",
              "    <tr>\n",
              "      <th>i_d</th>\n",
              "      <td>-0.096889</td>\n",
              "      <td>-0.385505</td>\n",
              "      <td>0.608712</td>\n",
              "      <td>-0.410514</td>\n",
              "      <td>-0.910886</td>\n",
              "      <td>-0.297683</td>\n",
              "      <td>1.000000</td>\n",
              "      <td>-0.263372</td>\n",
              "      <td>-0.707729</td>\n",
              "      <td>-0.731094</td>\n",
              "      <td>-0.837151</td>\n",
              "      <td>-0.882904</td>\n",
              "    </tr>\n",
              "    <tr>\n",
              "      <th>i_q</th>\n",
              "      <td>-0.049829</td>\n",
              "      <td>0.163456</td>\n",
              "      <td>-0.866680</td>\n",
              "      <td>0.134764</td>\n",
              "      <td>0.214462</td>\n",
              "      <td>0.997521</td>\n",
              "      <td>-0.263372</td>\n",
              "      <td>1.000000</td>\n",
              "      <td>0.174230</td>\n",
              "      <td>0.261040</td>\n",
              "      <td>0.275173</td>\n",
              "      <td>0.294131</td>\n",
              "    </tr>\n",
              "    <tr>\n",
              "      <th>pm</th>\n",
              "      <td>0.405276</td>\n",
              "      <td>0.624819</td>\n",
              "      <td>-0.522503</td>\n",
              "      <td>0.152399</td>\n",
              "      <td>0.654236</td>\n",
              "      <td>0.212017</td>\n",
              "      <td>-0.707729</td>\n",
              "      <td>0.174230</td>\n",
              "      <td>1.000000</td>\n",
              "      <td>0.876974</td>\n",
              "      <td>0.905536</td>\n",
              "      <td>0.886792</td>\n",
              "    </tr>\n",
              "    <tr>\n",
              "      <th>stator_yoke</th>\n",
              "      <td>0.327681</td>\n",
              "      <td>0.852100</td>\n",
              "      <td>-0.555228</td>\n",
              "      <td>0.315306</td>\n",
              "      <td>0.683926</td>\n",
              "      <td>0.285611</td>\n",
              "      <td>-0.731094</td>\n",
              "      <td>0.261040</td>\n",
              "      <td>0.876974</td>\n",
              "      <td>1.000000</td>\n",
              "      <td>0.974270</td>\n",
              "      <td>0.937335</td>\n",
              "    </tr>\n",
              "    <tr>\n",
              "      <th>stator_tooth</th>\n",
              "      <td>0.279815</td>\n",
              "      <td>0.718992</td>\n",
              "      <td>-0.592306</td>\n",
              "      <td>0.352986</td>\n",
              "      <td>0.773221</td>\n",
              "      <td>0.303321</td>\n",
              "      <td>-0.837151</td>\n",
              "      <td>0.275173</td>\n",
              "      <td>0.905536</td>\n",
              "      <td>0.974270</td>\n",
              "      <td>1.000000</td>\n",
              "      <td>0.990086</td>\n",
              "    </tr>\n",
              "    <tr>\n",
              "      <th>stator_winding</th>\n",
              "      <td>0.254866</td>\n",
              "      <td>0.632019</td>\n",
              "      <td>-0.604680</td>\n",
              "      <td>0.336869</td>\n",
              "      <td>0.790710</td>\n",
              "      <td>0.323578</td>\n",
              "      <td>-0.882904</td>\n",
              "      <td>0.294131</td>\n",
              "      <td>0.886792</td>\n",
              "      <td>0.937335</td>\n",
              "      <td>0.990086</td>\n",
              "      <td>1.000000</td>\n",
              "    </tr>\n",
              "  </tbody>\n",
              "</table>\n",
              "</div>\n",
              "      <button class=\"colab-df-convert\" onclick=\"convertToInteractive('df-3cee0137-ce96-4516-a5af-da7d7d499259')\"\n",
              "              title=\"Convert this dataframe to an interactive table.\"\n",
              "              style=\"display:none;\">\n",
              "        \n",
              "  <svg xmlns=\"http://www.w3.org/2000/svg\" height=\"24px\"viewBox=\"0 0 24 24\"\n",
              "       width=\"24px\">\n",
              "    <path d=\"M0 0h24v24H0V0z\" fill=\"none\"/>\n",
              "    <path d=\"M18.56 5.44l.94 2.06.94-2.06 2.06-.94-2.06-.94-.94-2.06-.94 2.06-2.06.94zm-11 1L8.5 8.5l.94-2.06 2.06-.94-2.06-.94L8.5 2.5l-.94 2.06-2.06.94zm10 10l.94 2.06.94-2.06 2.06-.94-2.06-.94-.94-2.06-.94 2.06-2.06.94z\"/><path d=\"M17.41 7.96l-1.37-1.37c-.4-.4-.92-.59-1.43-.59-.52 0-1.04.2-1.43.59L10.3 9.45l-7.72 7.72c-.78.78-.78 2.05 0 2.83L4 21.41c.39.39.9.59 1.41.59.51 0 1.02-.2 1.41-.59l7.78-7.78 2.81-2.81c.8-.78.8-2.07 0-2.86zM5.41 20L4 18.59l7.72-7.72 1.47 1.35L5.41 20z\"/>\n",
              "  </svg>\n",
              "      </button>\n",
              "      \n",
              "  <style>\n",
              "    .colab-df-container {\n",
              "      display:flex;\n",
              "      flex-wrap:wrap;\n",
              "      gap: 12px;\n",
              "    }\n",
              "\n",
              "    .colab-df-convert {\n",
              "      background-color: #E8F0FE;\n",
              "      border: none;\n",
              "      border-radius: 50%;\n",
              "      cursor: pointer;\n",
              "      display: none;\n",
              "      fill: #1967D2;\n",
              "      height: 32px;\n",
              "      padding: 0 0 0 0;\n",
              "      width: 32px;\n",
              "    }\n",
              "\n",
              "    .colab-df-convert:hover {\n",
              "      background-color: #E2EBFA;\n",
              "      box-shadow: 0px 1px 2px rgba(60, 64, 67, 0.3), 0px 1px 3px 1px rgba(60, 64, 67, 0.15);\n",
              "      fill: #174EA6;\n",
              "    }\n",
              "\n",
              "    [theme=dark] .colab-df-convert {\n",
              "      background-color: #3B4455;\n",
              "      fill: #D2E3FC;\n",
              "    }\n",
              "\n",
              "    [theme=dark] .colab-df-convert:hover {\n",
              "      background-color: #434B5C;\n",
              "      box-shadow: 0px 1px 3px 1px rgba(0, 0, 0, 0.15);\n",
              "      filter: drop-shadow(0px 1px 2px rgba(0, 0, 0, 0.3));\n",
              "      fill: #FFFFFF;\n",
              "    }\n",
              "  </style>\n",
              "\n",
              "      <script>\n",
              "        const buttonEl =\n",
              "          document.querySelector('#df-3cee0137-ce96-4516-a5af-da7d7d499259 button.colab-df-convert');\n",
              "        buttonEl.style.display =\n",
              "          google.colab.kernel.accessAllowed ? 'block' : 'none';\n",
              "\n",
              "        async function convertToInteractive(key) {\n",
              "          const element = document.querySelector('#df-3cee0137-ce96-4516-a5af-da7d7d499259');\n",
              "          const dataTable =\n",
              "            await google.colab.kernel.invokeFunction('convertToInteractive',\n",
              "                                                     [key], {});\n",
              "          if (!dataTable) return;\n",
              "\n",
              "          const docLinkHtml = 'Like what you see? Visit the ' +\n",
              "            '<a target=\"_blank\" href=https://colab.research.google.com/notebooks/data_table.ipynb>data table notebook</a>'\n",
              "            + ' to learn more about interactive tables.';\n",
              "          element.innerHTML = '';\n",
              "          dataTable['output_type'] = 'display_data';\n",
              "          await google.colab.output.renderOutput(dataTable, element);\n",
              "          const docLink = document.createElement('div');\n",
              "          docLink.innerHTML = docLinkHtml;\n",
              "          element.appendChild(docLink);\n",
              "        }\n",
              "      </script>\n",
              "    </div>\n",
              "  </div>\n",
              "  "
            ]
          },
          "metadata": {},
          "execution_count": 14
        }
      ]
    },
    {
      "cell_type": "code",
      "source": [
        "corrmat=df.corr()\n",
        "top_corr_features=corrmat.index\n",
        "plt.figure(figsize=(20,20))\n",
        "g=sns.heatmap(df[top_corr_features].corr(),annot=True,cmap='RdYlGn')\n",
        "# it seems that \"motor_speed\" has moderate strong correlation with \"u_q\" and \"i_d\""
      ],
      "metadata": {
        "colab": {
          "base_uri": "https://localhost:8080/",
          "height": 783
        },
        "id": "TWM5cVD7bPFr",
        "outputId": "cf5135d9-4d4a-4148-dbb6-d6feb54a716c"
      },
      "execution_count": null,
      "outputs": [
        {
          "output_type": "display_data",
          "data": {
            "text/plain": [
              "<Figure size 1440x1440 with 2 Axes>"
            ],
            "image/png": "[encoded data removed]"
          },
          "metadata": {
            "needs_background": "light"
          }
        }
      ]
    },
    {
      "cell_type": "code",
      "source": [
        "plt.figure(figsize=(16,8))\n",
        "df[\"motor_speed\"].plot.hist(bins=30)\n",
        "# it seems that there is high frequency at around -1.25"
      ],
      "metadata": {
        "colab": {
          "base_uri": "https://localhost:8080/",
          "height": 390
        },
        "id": "Xjp-frEAbbGS",
        "outputId": "bb5a871e-b3c7-417b-f9f4-0c2e069bdb81"
      },
      "execution_count": null,
      "outputs": [
        {
          "output_type": "execute_result",
          "data": {
            "text/plain": [
              "<matplotlib.axes._subplots.AxesSubplot at 0x7f9a35ae4df0>"
            ]
          },
          "metadata": {},
          "execution_count": 16
        },
        {
          "output_type": "display_data",
          "data": {
            "text/plain": [
              "<Figure size 1152x576 with 1 Axes>"
            ],
            "image/png": "[encoded data removed]"
          },
          "metadata": {
            "needs_background": "light"
          }
        }
      ]
    },
    {
      "cell_type": "code",
      "source": [
        "plt.figure(figsize=(16,8))\n",
        "sns.scatterplot(x=\"u_q\", y=\"motor_speed\", data=df)\n",
        "# it seems that increase in voltage q-component will increase motor speed as well."
      ],
      "metadata": {
        "colab": {
          "base_uri": "https://localhost:8080/",
          "height": 403
        },
        "id": "mCmdCZR1cN6V",
        "outputId": "779be392-ee91-4478-8d9e-c742aa23a89c"
      },
      "execution_count": null,
      "outputs": [
        {
          "output_type": "execute_result",
          "data": {
            "text/plain": [
              "<matplotlib.axes._subplots.AxesSubplot at 0x7f9a31341d30>"
            ]
          },
          "metadata": {},
          "execution_count": 17
        },
        {
          "output_type": "display_data",
          "data": {
            "text/plain": [
              "<Figure size 1152x576 with 1 Axes>"
            ],
            "image/png": "[encoded data removed]"
          },
          "metadata": {
            "needs_background": "light"
          }
        }
      ]
    },
    {
      "cell_type": "code",
      "source": [
        "plt.figure(figsize=(16,8))\n",
        "sns.scatterplot(x=\"i_d\", y=\"motor_speed\", data=df)\n",
        "# it seems that decrease in current d-component will increase motor speed."
      ],
      "metadata": {
        "colab": {
          "base_uri": "https://localhost:8080/",
          "height": 404
        },
        "id": "dZ0pg_5ufJBr",
        "outputId": "b12927b3-07b8-48c1-f920-7991fdc62fb4"
      },
      "execution_count": null,
      "outputs": [
        {
          "output_type": "execute_result",
          "data": {
            "text/plain": [
              "<matplotlib.axes._subplots.AxesSubplot at 0x7f9a312c8f70>"
            ]
          },
          "metadata": {},
          "execution_count": 18
        },
        {
          "output_type": "display_data",
          "data": {
            "text/plain": [
              "<Figure size 1152x576 with 1 Axes>"
            ],
            "image/png": "[encoded data removed]"
          },
          "metadata": {
            "needs_background": "light"
          }
        }
      ]
    },
    {
      "cell_type": "code",
      "source": [
        "# check for outliers\n",
        "#Feature Engineer\n",
        "plt.figure(figsize=(16,8))\n",
        "sns.boxplot(df[\"ambient\"])\n",
        "# there are outliers at both ends\n",
        "# there are extreme outliers at lower end"
      ],
      "metadata": {
        "colab": {
          "base_uri": "https://localhost:8080/",
          "height": 476
        },
        "id": "v-5eDNLvfyeo",
        "outputId": "0af2e65d-ec81-428a-c610-0d289468ada4"
      },
      "execution_count": null,
      "outputs": [
        {
          "output_type": "stream",
          "name": "stderr",
          "text": [
            "/usr/local/lib/python3.8/dist-packages/seaborn/_decorators.py:36: FutureWarning: Pass the following variable as a keyword arg: x. From version 0.12, the only valid positional argument will be `data`, and passing other arguments without an explicit keyword will result in an error or misinterpretation.\n",
            "  warnings.warn(\n"
          ]
        },
        {
          "output_type": "execute_result",
          "data": {
            "text/plain": [
              "<matplotlib.axes._subplots.AxesSubplot at 0x7f9a3126c850>"
            ]
          },
          "metadata": {},
          "execution_count": 19
        },
        {
          "output_type": "display_data",
          "data": {
            "text/plain": [
              "<Figure size 1152x576 with 1 Axes>"
            ],
            "image/png": "[encoded data removed]"
          },
          "metadata": {
            "needs_background": "light"
          }
        }
      ]
    },
    {
      "cell_type": "code",
      "source": [
        "plt.figure(figsize=(16,8))\n",
        "sns.boxplot(df[\"coolant\"])\n",
        "# no outliers"
      ],
      "metadata": {
        "colab": {
          "base_uri": "https://localhost:8080/",
          "height": 477
        },
        "id": "6hO3k1CjgFx_",
        "outputId": "9ca99bea-c323-4a1a-cb45-5925b46458a7"
      },
      "execution_count": null,
      "outputs": [
        {
          "output_type": "stream",
          "name": "stderr",
          "text": [
            "/usr/local/lib/python3.8/dist-packages/seaborn/_decorators.py:36: FutureWarning: Pass the following variable as a keyword arg: x. From version 0.12, the only valid positional argument will be `data`, and passing other arguments without an explicit keyword will result in an error or misinterpretation.\n",
            "  warnings.warn(\n"
          ]
        },
        {
          "output_type": "execute_result",
          "data": {
            "text/plain": [
              "<matplotlib.axes._subplots.AxesSubplot at 0x7f9a31239640>"
            ]
          },
          "metadata": {},
          "execution_count": 20
        },
        {
          "output_type": "display_data",
          "data": {
            "text/plain": [
              "<Figure size 1152x576 with 1 Axes>"
            ],
            "image/png": "[encoded data removed]"
          },
          "metadata": {
            "needs_background": "light"
          }
        }
      ]
    },
    {
      "cell_type": "code",
      "source": [
        "plt.figure(figsize=(16,8))\n",
        "sns.boxplot(df[\"u_d\"])\n",
        "# there are outliers at upper end"
      ],
      "metadata": {
        "colab": {
          "base_uri": "https://localhost:8080/",
          "height": 478
        },
        "id": "lI0_GPhWgQYE",
        "outputId": "7fd57573-f71e-4fc1-ca3f-54a7b9b34cdc"
      },
      "execution_count": null,
      "outputs": [
        {
          "output_type": "stream",
          "name": "stderr",
          "text": [
            "/usr/local/lib/python3.8/dist-packages/seaborn/_decorators.py:36: FutureWarning: Pass the following variable as a keyword arg: x. From version 0.12, the only valid positional argument will be `data`, and passing other arguments without an explicit keyword will result in an error or misinterpretation.\n",
            "  warnings.warn(\n"
          ]
        },
        {
          "output_type": "execute_result",
          "data": {
            "text/plain": [
              "<matplotlib.axes._subplots.AxesSubplot at 0x7f9a311af100>"
            ]
          },
          "metadata": {},
          "execution_count": 21
        },
        {
          "output_type": "display_data",
          "data": {
            "text/plain": [
              "<Figure size 1152x576 with 1 Axes>"
            ],
            "image/png": "[encoded data removed]"
          },
          "metadata": {
            "needs_background": "light"
          }
        }
      ]
    },
    {
      "cell_type": "code",
      "source": [
        "plt.figure(figsize=(16,8))\n",
        "sns.boxplot(df[\"u_q\"])\n",
        "# no outliers"
      ],
      "metadata": {
        "colab": {
          "base_uri": "https://localhost:8080/",
          "height": 477
        },
        "id": "VzqdRbHzgakk",
        "outputId": "76635180-ed59-4763-e00d-3463d62b0ecc"
      },
      "execution_count": null,
      "outputs": [
        {
          "output_type": "stream",
          "name": "stderr",
          "text": [
            "/usr/local/lib/python3.8/dist-packages/seaborn/_decorators.py:36: FutureWarning: Pass the following variable as a keyword arg: x. From version 0.12, the only valid positional argument will be `data`, and passing other arguments without an explicit keyword will result in an error or misinterpretation.\n",
            "  warnings.warn(\n"
          ]
        },
        {
          "output_type": "execute_result",
          "data": {
            "text/plain": [
              "<matplotlib.axes._subplots.AxesSubplot at 0x7f9a31204220>"
            ]
          },
          "metadata": {},
          "execution_count": 22
        },
        {
          "output_type": "display_data",
          "data": {
            "text/plain": [
              "<Figure size 1152x576 with 1 Axes>"
            ],
            "image/png": "[encoded data removed]"
          },
          "metadata": {
            "needs_background": "light"
          }
        }
      ]
    },
    {
      "cell_type": "code",
      "source": [
        "plt.figure(figsize=(16,8))\n",
        "sns.boxplot(df[\"motor_speed\"])\n",
        "# no outlier"
      ],
      "metadata": {
        "colab": {
          "base_uri": "https://localhost:8080/",
          "height": 478
        },
        "id": "Ogit97IxgeaI",
        "outputId": "917fd5d8-64ec-41f2-f5b0-8e2a28c961da"
      },
      "execution_count": null,
      "outputs": [
        {
          "output_type": "stream",
          "name": "stderr",
          "text": [
            "/usr/local/lib/python3.8/dist-packages/seaborn/_decorators.py:36: FutureWarning: Pass the following variable as a keyword arg: x. From version 0.12, the only valid positional argument will be `data`, and passing other arguments without an explicit keyword will result in an error or misinterpretation.\n",
            "  warnings.warn(\n"
          ]
        },
        {
          "output_type": "execute_result",
          "data": {
            "text/plain": [
              "<matplotlib.axes._subplots.AxesSubplot at 0x7f9a31179640>"
            ]
          },
          "metadata": {},
          "execution_count": 23
        },
        {
          "output_type": "display_data",
          "data": {
            "text/plain": [
              "<Figure size 1152x576 with 1 Axes>"
            ],
            "image/png": "[encoded data removed]"
          },
          "metadata": {
            "needs_background": "light"
          }
        }
      ]
    },
    {
      "cell_type": "code",
      "source": [
        "plt.figure(figsize=(16,8))\n",
        "sns.boxplot(df[\"torque\"])\n",
        "# there are outliers at both ends"
      ],
      "metadata": {
        "colab": {
          "base_uri": "https://localhost:8080/",
          "height": 477
        },
        "id": "iTnPUvXPguPL",
        "outputId": "c0ef7b0e-a082-4241-d06a-f90d61691c6c"
      },
      "execution_count": null,
      "outputs": [
        {
          "output_type": "stream",
          "name": "stderr",
          "text": [
            "/usr/local/lib/python3.8/dist-packages/seaborn/_decorators.py:36: FutureWarning: Pass the following variable as a keyword arg: x. From version 0.12, the only valid positional argument will be `data`, and passing other arguments without an explicit keyword will result in an error or misinterpretation.\n",
            "  warnings.warn(\n"
          ]
        },
        {
          "output_type": "execute_result",
          "data": {
            "text/plain": [
              "<matplotlib.axes._subplots.AxesSubplot at 0x7f9a330b40a0>"
            ]
          },
          "metadata": {},
          "execution_count": 24
        },
        {
          "output_type": "display_data",
          "data": {
            "text/plain": [
              "<Figure size 1152x576 with 1 Axes>"
            ],
            "image/png": "[encoded data removed]"
          },
          "metadata": {
            "needs_background": "light"
          }
        }
      ]
    },
    {
      "cell_type": "code",
      "source": [
        "\n",
        "plt.figure(figsize=(16,8))\n",
        "sns.boxplot(df[\"i_d\"])\n",
        "# no outliers"
      ],
      "metadata": {
        "colab": {
          "base_uri": "https://localhost:8080/",
          "height": 478
        },
        "id": "AnHBKGQYguqP",
        "outputId": "e3752082-f63f-4256-8ba0-7bb0787d22fe"
      },
      "execution_count": null,
      "outputs": [
        {
          "output_type": "stream",
          "name": "stderr",
          "text": [
            "/usr/local/lib/python3.8/dist-packages/seaborn/_decorators.py:36: FutureWarning: Pass the following variable as a keyword arg: x. From version 0.12, the only valid positional argument will be `data`, and passing other arguments without an explicit keyword will result in an error or misinterpretation.\n",
            "  warnings.warn(\n"
          ]
        },
        {
          "output_type": "execute_result",
          "data": {
            "text/plain": [
              "<matplotlib.axes._subplots.AxesSubplot at 0x7f9a311e67c0>"
            ]
          },
          "metadata": {},
          "execution_count": 25
        },
        {
          "output_type": "display_data",
          "data": {
            "text/plain": [
              "<Figure size 1152x576 with 1 Axes>"
            ],
            "image/png": "[encoded data removed]"
          },
          "metadata": {
            "needs_background": "light"
          }
        }
      ]
    },
    {
      "cell_type": "code",
      "source": [
        "plt.figure(figsize=(16,8))\n",
        "sns.boxplot(df[\"i_q\"])\n",
        "# there are outliers at both ends"
      ],
      "metadata": {
        "colab": {
          "base_uri": "https://localhost:8080/",
          "height": 476
        },
        "id": "Gq748qMJgur4",
        "outputId": "212e7a89-279d-4305-de14-94e85608c153"
      },
      "execution_count": null,
      "outputs": [
        {
          "output_type": "stream",
          "name": "stderr",
          "text": [
            "/usr/local/lib/python3.8/dist-packages/seaborn/_decorators.py:36: FutureWarning: Pass the following variable as a keyword arg: x. From version 0.12, the only valid positional argument will be `data`, and passing other arguments without an explicit keyword will result in an error or misinterpretation.\n",
            "  warnings.warn(\n"
          ]
        },
        {
          "output_type": "execute_result",
          "data": {
            "text/plain": [
              "<matplotlib.axes._subplots.AxesSubplot at 0x7f9a331c6460>"
            ]
          },
          "metadata": {},
          "execution_count": 26
        },
        {
          "output_type": "display_data",
          "data": {
            "text/plain": [
              "<Figure size 1152x576 with 1 Axes>"
            ],
            "image/png": "[encoded data removed]"
          },
          "metadata": {
            "needs_background": "light"
          }
        }
      ]
    },
    {
      "cell_type": "code",
      "source": [
        "plt.figure(figsize=(16,8))\n",
        "sns.boxplot(df[\"pm\"])\n",
        "# no outliers at upper end"
      ],
      "metadata": {
        "colab": {
          "base_uri": "https://localhost:8080/",
          "height": 477
        },
        "id": "SXLmMLYlguve",
        "outputId": "32a4cb05-d363-416d-ac17-4e1a8910174c"
      },
      "execution_count": null,
      "outputs": [
        {
          "output_type": "stream",
          "name": "stderr",
          "text": [
            "/usr/local/lib/python3.8/dist-packages/seaborn/_decorators.py:36: FutureWarning: Pass the following variable as a keyword arg: x. From version 0.12, the only valid positional argument will be `data`, and passing other arguments without an explicit keyword will result in an error or misinterpretation.\n",
            "  warnings.warn(\n"
          ]
        },
        {
          "output_type": "execute_result",
          "data": {
            "text/plain": [
              "<matplotlib.axes._subplots.AxesSubplot at 0x7f9a310bb280>"
            ]
          },
          "metadata": {},
          "execution_count": 27
        },
        {
          "output_type": "display_data",
          "data": {
            "text/plain": [
              "<Figure size 1152x576 with 1 Axes>"
            ],
            "image/png": "[encoded data removed]"
          },
          "metadata": {
            "needs_background": "light"
          }
        }
      ]
    },
    {
      "cell_type": "code",
      "source": [
        "plt.figure(figsize=(16,8))\n",
        "sns.boxplot(df[\"stator_yoke\"])\n",
        "# no outliers"
      ],
      "metadata": {
        "colab": {
          "base_uri": "https://localhost:8080/",
          "height": 478
        },
        "id": "KxBtcKQzguxE",
        "outputId": "205068be-a936-4398-bdf3-2b295468d508"
      },
      "execution_count": null,
      "outputs": [
        {
          "output_type": "stream",
          "name": "stderr",
          "text": [
            "/usr/local/lib/python3.8/dist-packages/seaborn/_decorators.py:36: FutureWarning: Pass the following variable as a keyword arg: x. From version 0.12, the only valid positional argument will be `data`, and passing other arguments without an explicit keyword will result in an error or misinterpretation.\n",
            "  warnings.warn(\n"
          ]
        },
        {
          "output_type": "execute_result",
          "data": {
            "text/plain": [
              "<matplotlib.axes._subplots.AxesSubplot at 0x7f9a30fbbee0>"
            ]
          },
          "metadata": {},
          "execution_count": 28
        },
        {
          "output_type": "display_data",
          "data": {
            "text/plain": [
              "<Figure size 1152x576 with 1 Axes>"
            ],
            "image/png": "[encoded data removed]"
          },
          "metadata": {
            "needs_background": "light"
          }
        }
      ]
    },
    {
      "cell_type": "code",
      "source": [
        "plt.figure(figsize=(16,8))\n",
        "sns.boxplot(df[\"stator_tooth\"])\n",
        "# no outliers"
      ],
      "metadata": {
        "colab": {
          "base_uri": "https://localhost:8080/",
          "height": 478
        },
        "id": "0Yr1czq3gu1O",
        "outputId": "c8f18499-e3fe-4e10-d616-d39d8e6f0bc9"
      },
      "execution_count": null,
      "outputs": [
        {
          "output_type": "stream",
          "name": "stderr",
          "text": [
            "/usr/local/lib/python3.8/dist-packages/seaborn/_decorators.py:36: FutureWarning: Pass the following variable as a keyword arg: x. From version 0.12, the only valid positional argument will be `data`, and passing other arguments without an explicit keyword will result in an error or misinterpretation.\n",
            "  warnings.warn(\n"
          ]
        },
        {
          "output_type": "execute_result",
          "data": {
            "text/plain": [
              "<matplotlib.axes._subplots.AxesSubplot at 0x7f9a30f05580>"
            ]
          },
          "metadata": {},
          "execution_count": 29
        },
        {
          "output_type": "display_data",
          "data": {
            "text/plain": [
              "<Figure size 1152x576 with 1 Axes>"
            ],
            "image/png": "[encoded data removed]"
          },
          "metadata": {
            "needs_background": "light"
          }
        }
      ]
    },
    {
      "cell_type": "code",
      "source": [
        "plt.figure(figsize=(16,8))\n",
        "sns.boxplot(df[\"stator_winding\"])\n",
        "# no outliers present"
      ],
      "metadata": {
        "colab": {
          "base_uri": "https://localhost:8080/",
          "height": 478
        },
        "id": "n81C7CUQhUSN",
        "outputId": "3205c8c3-442e-4f6b-e1e3-a153c095e489"
      },
      "execution_count": null,
      "outputs": [
        {
          "output_type": "stream",
          "name": "stderr",
          "text": [
            "/usr/local/lib/python3.8/dist-packages/seaborn/_decorators.py:36: FutureWarning: Pass the following variable as a keyword arg: x. From version 0.12, the only valid positional argument will be `data`, and passing other arguments without an explicit keyword will result in an error or misinterpretation.\n",
            "  warnings.warn(\n"
          ]
        },
        {
          "output_type": "execute_result",
          "data": {
            "text/plain": [
              "<matplotlib.axes._subplots.AxesSubplot at 0x7f9a310c4820>"
            ]
          },
          "metadata": {},
          "execution_count": 30
        },
        {
          "output_type": "display_data",
          "data": {
            "text/plain": [
              "<Figure size 1152x576 with 1 Axes>"
            ],
            "image/png": "[encoded data removed]"
          },
          "metadata": {
            "needs_background": "light"
          }
        }
      ]
    },
    {
      "cell_type": "code",
      "source": [
        "\n",
        "\n",
        "# will try to keep those outliers within interquantile proximity rule\n",
        "df[\"ambient\"] = np.where(df[\"ambient\"] < -2.528475, -2.528475, df[\"ambient\"])\n",
        "df[\"ambient\"] = np.where(df[\"ambient\"] > 2.615765, 2.615765, df[\"ambient\"])\n",
        "\n",
        "df[\"u_d\"] = np.where(df[\"u_d\"] > 2.135766, 2.135766, df[\"u_d\"])\n",
        "\n",
        "df[\"torque\"] = np.where(df[\"torque\"] < -1.488049, -1.488049, df[\"torque\"])\n",
        "df[\"torque\"] = np.where(df[\"torque\"] > 1.768303, 1.768303, df[\"torque\"])\n",
        "\n",
        "df[\"i_q\"] = np.where(df[\"i_q\"] < -1.3920625, -1.3920625, df[\"i_q\"])\n",
        "df[\"i_q\"] = np.where(df[\"i_q\"] > 1.6340535, 1.6340535, df[\"i_q\"])\n",
        "\n",
        "df[\"pm\"] = np.where(df[\"pm\"] > 1.8154845, 1.8154845, df[\"pm\"])"
      ],
      "metadata": {
        "id": "sTrFvF1fhaQ8"
      },
      "execution_count": null,
      "outputs": []
    },
    {
      "cell_type": "code",
      "source": [
        "# check for multicollinearity\n",
        "\n",
        "corrmat = df.corr()\n",
        "corrmat = corrmat.abs().unstack()\n",
        "corrmat.sort_values(ascending=False, inplace=True)\n",
        "corrmat = corrmat[corrmat < 1]\n",
        "corrmat = corrmat[corrmat >= 0.8]\n",
        "corrmat = pd.DataFrame(corrmat).reset_index()\n",
        "corrmat.columns = [\"feature1\", \"feature2\", \"corr\"]\n",
        "\n",
        "grouped_feature_ls = []\n",
        "correlated_groups = []\n",
        "\n",
        "for feature in corrmat[\"feature1\"].unique():\n",
        "    if feature not in grouped_feature_ls:\n",
        "        correlated_block = corrmat[corrmat[\"feature1\"] == feature]\n",
        "        grouped_feature_ls = grouped_feature_ls + list(correlated_block[\"feature2\"].unique()) + [feature]\n",
        "        correlated_groups.append(correlated_block)"
      ],
      "metadata": {
        "id": "URujQX85jv8u"
      },
      "execution_count": null,
      "outputs": []
    },
    {
      "cell_type": "code",
      "source": [
        "for group in correlated_groups:\n",
        "    print(group)\n",
        "# it seems that there are multicollinearity issue."
      ],
      "metadata": {
        "colab": {
          "base_uri": "https://localhost:8080/"
        },
        "id": "m3nrNlg2j4Hh",
        "outputId": "dfd1c54d-65d5-438f-d268-0cb978c286c9"
      },
      "execution_count": null,
      "outputs": [
        {
          "output_type": "stream",
          "name": "stdout",
          "text": [
            "   feature1 feature2      corr\n",
            "0       i_q   torque  0.995908\n",
            "21      i_q      u_d  0.864906\n",
            "          feature1      feature2      corr\n",
            "2   stator_winding  stator_tooth  0.990086\n",
            "6   stator_winding   stator_yoke  0.937335\n",
            "15  stator_winding            pm  0.886415\n",
            "16  stator_winding           i_d  0.882904\n",
            "      feature1 feature2      corr\n",
            "8  motor_speed      i_d  0.910886\n",
            "   feature1     feature2    corr\n",
            "22  coolant  stator_yoke  0.8521\n"
          ]
        }
      ]
    },
    {
      "cell_type": "code",
      "source": [
        "corrmat_motor = df.corr()\n",
        "corrmat_motor.index = df.columns\n",
        "corrmat_motor = corrmat_motor[\"motor_speed\"]\n",
        "corrmat_motor = corrmat_motor.abs().sort_values(ascending=False)"
      ],
      "metadata": {
        "id": "rTjLfWHrj8X5"
      },
      "execution_count": null,
      "outputs": []
    },
    {
      "cell_type": "code",
      "source": [
        "corrmat_motor"
      ],
      "metadata": {
        "colab": {
          "base_uri": "https://localhost:8080/"
        },
        "id": "2X72ATHZkTFV",
        "outputId": "e90e2494-1da5-42c8-d25c-45379a7eef1e"
      },
      "execution_count": null,
      "outputs": [
        {
          "output_type": "execute_result",
          "data": {
            "text/plain": [
              "motor_speed       1.000000\n",
              "i_d               0.910886\n",
              "stator_winding    0.790710\n",
              "stator_tooth      0.773221\n",
              "stator_yoke       0.683926\n",
              "u_q               0.668216\n",
              "pm                0.655758\n",
              "u_d               0.583897\n",
              "coolant           0.388054\n",
              "torque            0.261953\n",
              "i_q               0.234557\n",
              "ambient           0.099517\n",
              "Name: motor_speed, dtype: float64"
            ]
          },
          "metadata": {},
          "execution_count": 35
        }
      ]
    },
    {
      "cell_type": "code",
      "source": [
        "# among \"torque\", \"i_q\" and \"u_d\", it seems that \"u_d\" has higher correlation with motor_speed.\n",
        "# I will drop both \"torque\" and \"i_q\".\n",
        "\n",
        "# among \"stator_tooth\", \"stator_winding\" and \"stator_yoke\", it seems that \"stator_winding\" has higher correlation with motor_speed.\n",
        "# I will drop both \"stator_tooth\" and \"stator_yoke\"."
      ],
      "metadata": {
        "id": "5nVkRvb1kVuU"
      },
      "execution_count": null,
      "outputs": []
    },
    {
      "cell_type": "code",
      "source": [
        "motor = df.drop([\"torque\",\"i_q\",\"stator_tooth\",\"stator_yoke\"], axis=1)"
      ],
      "metadata": {
        "id": "_1V8RgQoke5-"
      },
      "execution_count": null,
      "outputs": []
    },
    {
      "cell_type": "code",
      "source": [
        "# split the data into predictors and output\n",
        "X = motor.drop(\"motor_speed\", axis=1)\n",
        "Y = motor[\"motor_speed\"]"
      ],
      "metadata": {
        "id": "irG1qcRvkh9u"
      },
      "execution_count": null,
      "outputs": []
    },
    {
      "cell_type": "code",
      "source": [
        "from sklearn.ensemble import RandomForestRegressor\n",
        "from sklearn.model_selection import train_test_split\n",
        "from sklearn.metrics import mean_squared_error, r2_score\n"
      ],
      "metadata": {
        "id": "Vd-_ZNIrngOi"
      },
      "execution_count": null,
      "outputs": []
    },
    {
      "cell_type": "code",
      "source": [
        "# Split the data into training and testing sets\n",
        "X_train, X_test, Y_train, Y_test = train_test_split(X, Y, test_size=0.2, random_state=42)"
      ],
      "metadata": {
        "id": "-eIt88MWt4kZ"
      },
      "execution_count": null,
      "outputs": []
    },
    {
      "cell_type": "code",
      "source": [
        "X_train.head()"
      ],
      "metadata": {
        "colab": {
          "base_uri": "https://localhost:8080/",
          "height": 206
        },
        "id": "wTE7m7dgt-L7",
        "outputId": "f2a1d7a4-2980-4f59-e329-2b3da43cc346"
      },
      "execution_count": null,
      "outputs": [
        {
          "output_type": "execute_result",
          "data": {
            "text/plain": [
              "        ambient   coolant       u_d       u_q       i_d        pm  \\\n",
              "59128  0.609363 -1.084187  0.332417 -1.303299  1.029134 -1.111099   \n",
              "15621 -0.614384 -1.095799  0.300281  0.960236  1.029146 -1.834053   \n",
              "33802 -1.000712 -1.041000 -1.083417  0.807221 -1.120775 -1.640333   \n",
              "3494  -0.736123 -1.061951 -1.209764  0.533937 -1.386848  0.112689   \n",
              "1818  -0.295724 -1.091481  0.179641  1.683145 -0.764338 -0.385794   \n",
              "\n",
              "       stator_winding  \n",
              "59128       -1.968781  \n",
              "15621       -1.753450  \n",
              "33802       -0.779854  \n",
              "3494         0.017809  \n",
              "1818        -0.371687  "
            ],
            "text/html": [
              "\n",
              "  <div id=\"df-ffc33a03-dc2c-4024-83cd-5d6eb35ddd13\">\n",
              "    <div class=\"colab-df-container\">\n",
              "      <div>\n",
              "<style scoped>\n",
              "    .dataframe tbody tr th:only-of-type {\n",
              "        vertical-align: middle;\n",
              "    }\n",
              "\n",
              "    .dataframe tbody tr th {\n",
              "        vertical-align: top;\n",
              "    }\n",
              "\n",
              "    .dataframe thead th {\n",
              "        text-align: right;\n",
              "    }\n",
              "</style>\n",
              "<table border=\"1\" class=\"dataframe\">\n",
              "  <thead>\n",
              "    <tr style=\"text-align: right;\">\n",
              "      <th></th>\n",
              "      <th>ambient</th>\n",
              "      <th>coolant</th>\n",
              "      <th>u_d</th>\n",
              "      <th>u_q</th>\n",
              "      <th>i_d</th>\n",
              "      <th>pm</th>\n",
              "      <th>stator_winding</th>\n",
              "    </tr>\n",
              "  </thead>\n",
              "  <tbody>\n",
              "    <tr>\n",
              "      <th>59128</th>\n",
              "      <td>0.609363</td>\n",
              "      <td>-1.084187</td>\n",
              "      <td>0.332417</td>\n",
              "      <td>-1.303299</td>\n",
              "      <td>1.029134</td>\n",
              "      <td>-1.111099</td>\n",
              "      <td>-1.968781</td>\n",
              "    </tr>\n",
              "    <tr>\n",
              "      <th>15621</th>\n",
              "      <td>-0.614384</td>\n",
              "      <td>-1.095799</td>\n",
              "      <td>0.300281</td>\n",
              "      <td>0.960236</td>\n",
              "      <td>1.029146</td>\n",
              "      <td>-1.834053</td>\n",
              "      <td>-1.753450</td>\n",
              "    </tr>\n",
              "    <tr>\n",
              "      <th>33802</th>\n",
              "      <td>-1.000712</td>\n",
              "      <td>-1.041000</td>\n",
              "      <td>-1.083417</td>\n",
              "      <td>0.807221</td>\n",
              "      <td>-1.120775</td>\n",
              "      <td>-1.640333</td>\n",
              "      <td>-0.779854</td>\n",
              "    </tr>\n",
              "    <tr>\n",
              "      <th>3494</th>\n",
              "      <td>-0.736123</td>\n",
              "      <td>-1.061951</td>\n",
              "      <td>-1.209764</td>\n",
              "      <td>0.533937</td>\n",
              "      <td>-1.386848</td>\n",
              "      <td>0.112689</td>\n",
              "      <td>0.017809</td>\n",
              "    </tr>\n",
              "    <tr>\n",
              "      <th>1818</th>\n",
              "      <td>-0.295724</td>\n",
              "      <td>-1.091481</td>\n",
              "      <td>0.179641</td>\n",
              "      <td>1.683145</td>\n",
              "      <td>-0.764338</td>\n",
              "      <td>-0.385794</td>\n",
              "      <td>-0.371687</td>\n",
              "    </tr>\n",
              "  </tbody>\n",
              "</table>\n",
              "</div>\n",
              "      <button class=\"colab-df-convert\" onclick=\"convertToInteractive('df-ffc33a03-dc2c-4024-83cd-5d6eb35ddd13')\"\n",
              "              title=\"Convert this dataframe to an interactive table.\"\n",
              "              style=\"display:none;\">\n",
              "        \n",
              "  <svg xmlns=\"http://www.w3.org/2000/svg\" height=\"24px\"viewBox=\"0 0 24 24\"\n",
              "       width=\"24px\">\n",
              "    <path d=\"M0 0h24v24H0V0z\" fill=\"none\"/>\n",
              "    <path d=\"M18.56 5.44l.94 2.06.94-2.06 2.06-.94-2.06-.94-.94-2.06-.94 2.06-2.06.94zm-11 1L8.5 8.5l.94-2.06 2.06-.94-2.06-.94L8.5 2.5l-.94 2.06-2.06.94zm10 10l.94 2.06.94-2.06 2.06-.94-2.06-.94-.94-2.06-.94 2.06-2.06.94z\"/><path d=\"M17.41 7.96l-1.37-1.37c-.4-.4-.92-.59-1.43-.59-.52 0-1.04.2-1.43.59L10.3 9.45l-7.72 7.72c-.78.78-.78 2.05 0 2.83L4 21.41c.39.39.9.59 1.41.59.51 0 1.02-.2 1.41-.59l7.78-7.78 2.81-2.81c.8-.78.8-2.07 0-2.86zM5.41 20L4 18.59l7.72-7.72 1.47 1.35L5.41 20z\"/>\n",
              "  </svg>\n",
              "      </button>\n",
              "      \n",
              "  <style>\n",
              "    .colab-df-container {\n",
              "      display:flex;\n",
              "      flex-wrap:wrap;\n",
              "      gap: 12px;\n",
              "    }\n",
              "\n",
              "    .colab-df-convert {\n",
              "      background-color: #E8F0FE;\n",
              "      border: none;\n",
              "      border-radius: 50%;\n",
              "      cursor: pointer;\n",
              "      display: none;\n",
              "      fill: #1967D2;\n",
              "      height: 32px;\n",
              "      padding: 0 0 0 0;\n",
              "      width: 32px;\n",
              "    }\n",
              "\n",
              "    .colab-df-convert:hover {\n",
              "      background-color: #E2EBFA;\n",
              "      box-shadow: 0px 1px 2px rgba(60, 64, 67, 0.3), 0px 1px 3px 1px rgba(60, 64, 67, 0.15);\n",
              "      fill: #174EA6;\n",
              "    }\n",
              "\n",
              "    [theme=dark] .colab-df-convert {\n",
              "      background-color: #3B4455;\n",
              "      fill: #D2E3FC;\n",
              "    }\n",
              "\n",
              "    [theme=dark] .colab-df-convert:hover {\n",
              "      background-color: #434B5C;\n",
              "      box-shadow: 0px 1px 3px 1px rgba(0, 0, 0, 0.15);\n",
              "      filter: drop-shadow(0px 1px 2px rgba(0, 0, 0, 0.3));\n",
              "      fill: #FFFFFF;\n",
              "    }\n",
              "  </style>\n",
              "\n",
              "      <script>\n",
              "        const buttonEl =\n",
              "          document.querySelector('#df-ffc33a03-dc2c-4024-83cd-5d6eb35ddd13 button.colab-df-convert');\n",
              "        buttonEl.style.display =\n",
              "          google.colab.kernel.accessAllowed ? 'block' : 'none';\n",
              "\n",
              "        async function convertToInteractive(key) {\n",
              "          const element = document.querySelector('#df-ffc33a03-dc2c-4024-83cd-5d6eb35ddd13');\n",
              "          const dataTable =\n",
              "            await google.colab.kernel.invokeFunction('convertToInteractive',\n",
              "                                                     [key], {});\n",
              "          if (!dataTable) return;\n",
              "\n",
              "          const docLinkHtml = 'Like what you see? Visit the ' +\n",
              "            '<a target=\"_blank\" href=https://colab.research.google.com/notebooks/data_table.ipynb>data table notebook</a>'\n",
              "            + ' to learn more about interactive tables.';\n",
              "          element.innerHTML = '';\n",
              "          dataTable['output_type'] = 'display_data';\n",
              "          await google.colab.output.renderOutput(dataTable, element);\n",
              "          const docLink = document.createElement('div');\n",
              "          docLink.innerHTML = docLinkHtml;\n",
              "          element.appendChild(docLink);\n",
              "        }\n",
              "      </script>\n",
              "    </div>\n",
              "  </div>\n",
              "  "
            ]
          },
          "metadata": {},
          "execution_count": 58
        }
      ]
    },
    {
      "cell_type": "code",
      "source": [
        "# Train the model\n",
        "model = RandomForestRegressor(n_estimators=100, random_state=42)\n",
        "model.fit(X_train, Y_train)"
      ],
      "metadata": {
        "id": "bAG-QTuIt4mJ",
        "colab": {
          "base_uri": "https://localhost:8080/"
        },
        "outputId": "51a8beb0-82ee-4b77-b364-262c90afd925"
      },
      "execution_count": null,
      "outputs": [
        {
          "output_type": "execute_result",
          "data": {
            "text/plain": [
              "RandomForestRegressor(random_state=42)"
            ]
          },
          "metadata": {},
          "execution_count": 42
        }
      ]
    },
    {
      "cell_type": "code",
      "source": [
        "# Predict on the test data\n",
        "y_pred = model.predict(X_test)\n"
      ],
      "metadata": {
        "id": "7RidgaLnt4qJ"
      },
      "execution_count": null,
      "outputs": []
    },
    {
      "cell_type": "code",
      "source": [
        "# Evaluate the model using mean squared error\n",
        "mse = mean_squared_error(Y_test, y_pred)\n",
        "print(\"Mean Squared Error:\", mse)"
      ],
      "metadata": {
        "colab": {
          "base_uri": "https://localhost:8080/"
        },
        "id": "KY3tGBrEntG6",
        "outputId": "257ea39b-867f-46b2-ce4d-fe8f0153b910"
      },
      "execution_count": null,
      "outputs": [
        {
          "output_type": "stream",
          "name": "stdout",
          "text": [
            "Mean Squared Error: 2.0208562010692654e-05\n"
          ]
        }
      ]
    },
    {
      "cell_type": "code",
      "source": [
        "# Evaluate the model accuracy using R^2 score\n",
        "r2 = r2_score(Y_test, y_pred)\n",
        "print(\"R^2 Score:\", r2)"
      ],
      "metadata": {
        "colab": {
          "base_uri": "https://localhost:8080/"
        },
        "id": "3-ZRsYihn_uw",
        "outputId": "e4a7127f-22ef-4765-be89-b70a19e50d54"
      },
      "execution_count": null,
      "outputs": [
        {
          "output_type": "stream",
          "name": "stdout",
          "text": [
            "R^2 Score: 0.9999820851336603\n"
          ]
        }
      ]
    },
    {
      "cell_type": "code",
      "source": [
        "#Saving the train model"
      ],
      "metadata": {
        "id": "mDTDAt0qoRq0"
      },
      "execution_count": null,
      "outputs": []
    },
    {
      "cell_type": "code",
      "source": [
        " \n",
        "import pickle\n"
      ],
      "metadata": {
        "id": "xj2H9kw3sxRN"
      },
      "execution_count": null,
      "outputs": []
    },
    {
      "cell_type": "code",
      "source": [
        "filename='trained_model.sav'\n",
        "pickle.dump(model, open(filename, 'wb'))"
      ],
      "metadata": {
        "id": "Lu0PKEMtIjCe"
      },
      "execution_count": null,
      "outputs": []
    },
    {
      "cell_type": "code",
      "source": [
        "loaded_model=pickle.load(open('trained_model.sav', 'rb'))"
      ],
      "metadata": {
        "id": "7FjGAM2YIjD0"
      },
      "execution_count": null,
      "outputs": []
    },
    {
      "cell_type": "code",
      "source": [
        "input_data=(0.22,0.576,0.567,0.444,0.768,0.892,0.654)"
      ],
      "metadata": {
        "id": "ocNsQIvarE0n"
      },
      "execution_count": null,
      "outputs": []
    },
    {
      "cell_type": "code",
      "source": [
        "input_data_asarray=np.asarray(input_data)"
      ],
      "metadata": {
        "id": "DiAk3KN7tv5O"
      },
      "execution_count": null,
      "outputs": []
    },
    {
      "cell_type": "code",
      "source": [
        "input_data_reshaped=input_data_asarray.reshape(1,-1)"
      ],
      "metadata": {
        "id": "nMxNKNUNJyKi"
      },
      "execution_count": null,
      "outputs": []
    },
    {
      "cell_type": "code",
      "source": [
        "prediction=loaded_model.predict(input_data_reshaped)\n",
        "print(prediction)"
      ],
      "metadata": {
        "colab": {
          "base_uri": "https://localhost:8080/"
        },
        "id": "Jx8gELrUJ_w6",
        "outputId": "9db7b6b5-24f5-4652-8b32-dbe4ba070752"
      },
      "execution_count": null,
      "outputs": [
        {
          "output_type": "stream",
          "name": "stdout",
          "text": [
            "[-0.31976567]\n"
          ]
        },
        {
          "output_type": "stream",
          "name": "stderr",
          "text": [
            "/usr/local/lib/python3.8/dist-packages/sklearn/base.py:450: UserWarning: X does not have valid feature names, but RandomForestRegressor was fitted with feature names\n",
            "  warnings.warn(\n"
          ]
        }
      ]
    },
    {
      "cell_type": "code",
      "source": [],
      "metadata": {
        "id": "v__rtEBoKKXr"
      },
      "execution_count": null,
      "outputs": []
    }
  ]
}